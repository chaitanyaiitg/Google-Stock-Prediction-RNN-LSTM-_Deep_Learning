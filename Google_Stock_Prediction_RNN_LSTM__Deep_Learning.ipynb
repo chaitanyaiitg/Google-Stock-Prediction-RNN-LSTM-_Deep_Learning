{
  "nbformat": 4,
  "nbformat_minor": 0,
  "metadata": {
    "accelerator": "GPU",
    "colab": {
      "name": "Google Stock Prediction RNN-LSTM-_Deep_Learning.ipynb",
      "provenance": [],
      "collapsed_sections": []
    },
    "kernelspec": {
      "display_name": "Python 3",
      "language": "python",
      "name": "python3"
    },
    "language_info": {
      "codemirror_mode": {
        "name": "ipython",
        "version": 3
      },
      "file_extension": ".py",
      "mimetype": "text/x-python",
      "name": "python",
      "nbconvert_exporter": "python",
      "pygments_lexer": "ipython3",
      "version": "3.8.3"
    }
  },
  "cells": [
    {
      "cell_type": "code",
      "metadata": {
        "id": "2iig0a3Sbm2i",
        "outputId": "d8c0537d-6c8d-4b42-e7cd-53c242e9675f",
        "colab": {
          "base_uri": "https://localhost:8080/",
          "height": 717
        }
      },
      "source": [
        "! pip install tensorflow-gpu"
      ],
      "execution_count": 1,
      "outputs": [
        {
          "output_type": "stream",
          "text": [
            "Collecting tensorflow-gpu\n",
            "\u001b[?25l  Downloading https://files.pythonhosted.org/packages/18/99/ac32fd13d56e40d4c3e6150030132519997c0bb1f06f448d970e81b177e5/tensorflow_gpu-2.3.1-cp36-cp36m-manylinux2010_x86_64.whl (320.4MB)\n",
            "\u001b[K     |████████████████████████████████| 320.4MB 52kB/s \n",
            "\u001b[?25hRequirement already satisfied: grpcio>=1.8.6 in /usr/local/lib/python3.6/dist-packages (from tensorflow-gpu) (1.32.0)\n",
            "Requirement already satisfied: astunparse==1.6.3 in /usr/local/lib/python3.6/dist-packages (from tensorflow-gpu) (1.6.3)\n",
            "Requirement already satisfied: numpy<1.19.0,>=1.16.0 in /usr/local/lib/python3.6/dist-packages (from tensorflow-gpu) (1.18.5)\n",
            "Requirement already satisfied: google-pasta>=0.1.8 in /usr/local/lib/python3.6/dist-packages (from tensorflow-gpu) (0.2.0)\n",
            "Requirement already satisfied: protobuf>=3.9.2 in /usr/local/lib/python3.6/dist-packages (from tensorflow-gpu) (3.12.4)\n",
            "Requirement already satisfied: tensorboard<3,>=2.3.0 in /usr/local/lib/python3.6/dist-packages (from tensorflow-gpu) (2.3.0)\n",
            "Requirement already satisfied: wheel>=0.26 in /usr/local/lib/python3.6/dist-packages (from tensorflow-gpu) (0.35.1)\n",
            "Requirement already satisfied: absl-py>=0.7.0 in /usr/local/lib/python3.6/dist-packages (from tensorflow-gpu) (0.10.0)\n",
            "Requirement already satisfied: keras-preprocessing<1.2,>=1.1.1 in /usr/local/lib/python3.6/dist-packages (from tensorflow-gpu) (1.1.2)\n",
            "Requirement already satisfied: termcolor>=1.1.0 in /usr/local/lib/python3.6/dist-packages (from tensorflow-gpu) (1.1.0)\n",
            "Requirement already satisfied: opt-einsum>=2.3.2 in /usr/local/lib/python3.6/dist-packages (from tensorflow-gpu) (3.3.0)\n",
            "Requirement already satisfied: wrapt>=1.11.1 in /usr/local/lib/python3.6/dist-packages (from tensorflow-gpu) (1.12.1)\n",
            "Requirement already satisfied: tensorflow-estimator<2.4.0,>=2.3.0 in /usr/local/lib/python3.6/dist-packages (from tensorflow-gpu) (2.3.0)\n",
            "Requirement already satisfied: six>=1.12.0 in /usr/local/lib/python3.6/dist-packages (from tensorflow-gpu) (1.15.0)\n",
            "Requirement already satisfied: h5py<2.11.0,>=2.10.0 in /usr/local/lib/python3.6/dist-packages (from tensorflow-gpu) (2.10.0)\n",
            "Requirement already satisfied: gast==0.3.3 in /usr/local/lib/python3.6/dist-packages (from tensorflow-gpu) (0.3.3)\n",
            "Requirement already satisfied: setuptools in /usr/local/lib/python3.6/dist-packages (from protobuf>=3.9.2->tensorflow-gpu) (50.3.0)\n",
            "Requirement already satisfied: tensorboard-plugin-wit>=1.6.0 in /usr/local/lib/python3.6/dist-packages (from tensorboard<3,>=2.3.0->tensorflow-gpu) (1.7.0)\n",
            "Requirement already satisfied: werkzeug>=0.11.15 in /usr/local/lib/python3.6/dist-packages (from tensorboard<3,>=2.3.0->tensorflow-gpu) (1.0.1)\n",
            "Requirement already satisfied: google-auth<2,>=1.6.3 in /usr/local/lib/python3.6/dist-packages (from tensorboard<3,>=2.3.0->tensorflow-gpu) (1.17.2)\n",
            "Requirement already satisfied: markdown>=2.6.8 in /usr/local/lib/python3.6/dist-packages (from tensorboard<3,>=2.3.0->tensorflow-gpu) (3.2.2)\n",
            "Requirement already satisfied: google-auth-oauthlib<0.5,>=0.4.1 in /usr/local/lib/python3.6/dist-packages (from tensorboard<3,>=2.3.0->tensorflow-gpu) (0.4.1)\n",
            "Requirement already satisfied: requests<3,>=2.21.0 in /usr/local/lib/python3.6/dist-packages (from tensorboard<3,>=2.3.0->tensorflow-gpu) (2.23.0)\n",
            "Requirement already satisfied: pyasn1-modules>=0.2.1 in /usr/local/lib/python3.6/dist-packages (from google-auth<2,>=1.6.3->tensorboard<3,>=2.3.0->tensorflow-gpu) (0.2.8)\n",
            "Requirement already satisfied: rsa<5,>=3.1.4; python_version >= \"3\" in /usr/local/lib/python3.6/dist-packages (from google-auth<2,>=1.6.3->tensorboard<3,>=2.3.0->tensorflow-gpu) (4.6)\n",
            "Requirement already satisfied: cachetools<5.0,>=2.0.0 in /usr/local/lib/python3.6/dist-packages (from google-auth<2,>=1.6.3->tensorboard<3,>=2.3.0->tensorflow-gpu) (4.1.1)\n",
            "Requirement already satisfied: importlib-metadata; python_version < \"3.8\" in /usr/local/lib/python3.6/dist-packages (from markdown>=2.6.8->tensorboard<3,>=2.3.0->tensorflow-gpu) (2.0.0)\n",
            "Requirement already satisfied: requests-oauthlib>=0.7.0 in /usr/local/lib/python3.6/dist-packages (from google-auth-oauthlib<0.5,>=0.4.1->tensorboard<3,>=2.3.0->tensorflow-gpu) (1.3.0)\n",
            "Requirement already satisfied: certifi>=2017.4.17 in /usr/local/lib/python3.6/dist-packages (from requests<3,>=2.21.0->tensorboard<3,>=2.3.0->tensorflow-gpu) (2020.6.20)\n",
            "Requirement already satisfied: urllib3!=1.25.0,!=1.25.1,<1.26,>=1.21.1 in /usr/local/lib/python3.6/dist-packages (from requests<3,>=2.21.0->tensorboard<3,>=2.3.0->tensorflow-gpu) (1.24.3)\n",
            "Requirement already satisfied: idna<3,>=2.5 in /usr/local/lib/python3.6/dist-packages (from requests<3,>=2.21.0->tensorboard<3,>=2.3.0->tensorflow-gpu) (2.10)\n",
            "Requirement already satisfied: chardet<4,>=3.0.2 in /usr/local/lib/python3.6/dist-packages (from requests<3,>=2.21.0->tensorboard<3,>=2.3.0->tensorflow-gpu) (3.0.4)\n",
            "Requirement already satisfied: pyasn1<0.5.0,>=0.4.6 in /usr/local/lib/python3.6/dist-packages (from pyasn1-modules>=0.2.1->google-auth<2,>=1.6.3->tensorboard<3,>=2.3.0->tensorflow-gpu) (0.4.8)\n",
            "Requirement already satisfied: zipp>=0.5 in /usr/local/lib/python3.6/dist-packages (from importlib-metadata; python_version < \"3.8\"->markdown>=2.6.8->tensorboard<3,>=2.3.0->tensorflow-gpu) (3.2.0)\n",
            "Requirement already satisfied: oauthlib>=3.0.0 in /usr/local/lib/python3.6/dist-packages (from requests-oauthlib>=0.7.0->google-auth-oauthlib<0.5,>=0.4.1->tensorboard<3,>=2.3.0->tensorflow-gpu) (3.1.0)\n",
            "Installing collected packages: tensorflow-gpu\n",
            "Successfully installed tensorflow-gpu-2.3.1\n"
          ],
          "name": "stdout"
        }
      ]
    },
    {
      "cell_type": "code",
      "metadata": {
        "id": "RLuJ3IyBbzUk",
        "outputId": "e72d996f-5bbb-44f6-c2e3-4375771b26bd",
        "colab": {
          "base_uri": "https://localhost:8080/",
          "height": 119
        }
      },
      "source": [
        "! pip install keras"
      ],
      "execution_count": 2,
      "outputs": [
        {
          "output_type": "stream",
          "text": [
            "Requirement already satisfied: keras in /usr/local/lib/python3.6/dist-packages (2.4.3)\n",
            "Requirement already satisfied: pyyaml in /usr/local/lib/python3.6/dist-packages (from keras) (3.13)\n",
            "Requirement already satisfied: numpy>=1.9.1 in /usr/local/lib/python3.6/dist-packages (from keras) (1.18.5)\n",
            "Requirement already satisfied: scipy>=0.14 in /usr/local/lib/python3.6/dist-packages (from keras) (1.4.1)\n",
            "Requirement already satisfied: h5py in /usr/local/lib/python3.6/dist-packages (from keras) (2.10.0)\n",
            "Requirement already satisfied: six in /usr/local/lib/python3.6/dist-packages (from h5py->keras) (1.15.0)\n"
          ],
          "name": "stdout"
        }
      ]
    },
    {
      "cell_type": "code",
      "metadata": {
        "id": "CBH6WN3Db5qw",
        "outputId": "ba884a81-9c2e-41da-836c-12e0e1a8251b",
        "colab": {
          "base_uri": "https://localhost:8080/",
          "height": 102
        }
      },
      "source": [
        "! pip install pandas"
      ],
      "execution_count": 3,
      "outputs": [
        {
          "output_type": "stream",
          "text": [
            "Requirement already satisfied: pandas in /usr/local/lib/python3.6/dist-packages (1.1.2)\n",
            "Requirement already satisfied: numpy>=1.15.4 in /usr/local/lib/python3.6/dist-packages (from pandas) (1.18.5)\n",
            "Requirement already satisfied: pytz>=2017.2 in /usr/local/lib/python3.6/dist-packages (from pandas) (2018.9)\n",
            "Requirement already satisfied: python-dateutil>=2.7.3 in /usr/local/lib/python3.6/dist-packages (from pandas) (2.8.1)\n",
            "Requirement already satisfied: six>=1.5 in /usr/local/lib/python3.6/dist-packages (from python-dateutil>=2.7.3->pandas) (1.15.0)\n"
          ],
          "name": "stdout"
        }
      ]
    },
    {
      "cell_type": "code",
      "metadata": {
        "id": "lPqXRMj_b5wC",
        "outputId": "ef6cbe8b-455e-4784-ed2d-3b66b01f80f3",
        "colab": {
          "base_uri": "https://localhost:8080/",
          "height": 139
        }
      },
      "source": [
        "import matplotlib.pylab as plt\n",
        "import numpy as np\n",
        "import tensorflow_hub as hub\n",
        "import tensorflow as tf\n",
        "print(\"TF version:\", tf.__version__)\n",
        "print(\"Hub version:\", hub.__version__)\n",
        "print(\"GPU is\", \"available\" if tf.test.is_gpu_available() else \"NOT AVAILABLE\")"
      ],
      "execution_count": 4,
      "outputs": [
        {
          "output_type": "stream",
          "text": [
            "TF version: 2.3.1\n",
            "Hub version: 0.9.0\n",
            "WARNING:tensorflow:From <ipython-input-4-c62ce35fd0be>:7: is_gpu_available (from tensorflow.python.framework.test_util) is deprecated and will be removed in a future version.\n",
            "Instructions for updating:\n",
            "Use `tf.config.list_physical_devices('GPU')` instead.\n",
            "GPU is available\n"
          ],
          "name": "stdout"
        }
      ]
    },
    {
      "cell_type": "code",
      "metadata": {
        "id": "izjchs6sb51O"
      },
      "source": [
        "#from tensorflow.keras.layers import Input, Lambda, Dense, Flatten,Conv2D,MaxPooling2D\n",
        "#from keras.layers import Dense, Activation, Embedding, Flatten, LeakyReLU, BatchNormalization, Dropout\n",
        "#from tensorflow.keras.models import Model\n",
        "#from tensorflow.keras.preprocessing import image\n",
        "#from tensorflow.keras.preprocessing.image import ImageDataGenerator,load_img\n",
        "#from tensorflow.keras.models import Sequential\n",
        "#from glob import glob\n",
        "\n",
        "import numpy as np\n",
        "import matplotlib.pyplot as plt\n",
        "plt.style.use('fivethirtyeight')\n",
        "import pandas as pd\n",
        "from sklearn.preprocessing import MinMaxScaler\n",
        "from keras.models import Sequential\n",
        "from keras.layers import Dense, LSTM, Dropout, GRU, Bidirectional\n",
        "from keras.optimizers import SGD\n",
        "import math\n",
        "from sklearn.metrics import mean_squared_error\n"
      ],
      "execution_count": 5,
      "outputs": []
    },
    {
      "cell_type": "code",
      "metadata": {
        "id": "MgdvwuWPb56c"
      },
      "source": [
        "from sklearn.utils import shuffle\n",
        "from sklearn.metrics import classification_report\n",
        "from sklearn.model_selection import train_test_split\n",
        "from sklearn.metrics import confusion_matrix,accuracy_score, r2_score\n",
        "import os\n",
        "import cv2"
      ],
      "execution_count": 6,
      "outputs": []
    },
    {
      "cell_type": "code",
      "metadata": {
        "id": "qBNVQkSVb5_d",
        "outputId": "6648df97-1a62-482b-94c9-47f21b122108",
        "colab": {
          "base_uri": "https://localhost:8080/",
          "height": 34
        }
      },
      "source": [
        "from google.colab import drive\n",
        "drive.mount('/content/drive')"
      ],
      "execution_count": 7,
      "outputs": [
        {
          "output_type": "stream",
          "text": [
            "Mounted at /content/drive\n"
          ],
          "name": "stdout"
        }
      ]
    },
    {
      "cell_type": "code",
      "metadata": {
        "id": "XBYFY4Pbb6E2"
      },
      "source": [
        "file1=\"/content/drive/My Drive/Colab Notebooks/Google Stock Price/trainset.csv\"\n",
        "file2=\"/content/drive/My Drive/Colab Notebooks/Google Stock Price/testset.csv\"\n"
      ],
      "execution_count": 8,
      "outputs": []
    },
    {
      "cell_type": "code",
      "metadata": {
        "id": "cUPoix_vb6KO",
        "outputId": "f3b97e97-b2db-4ba9-f325-c15f240f5cb9",
        "colab": {
          "base_uri": "https://localhost:8080/",
          "height": 450
        }
      },
      "source": [
        "import pandas as pd\n",
        "df_train=pd.read_csv(file1,index_col='Date', parse_dates=['Date'])\n",
        "df_train"
      ],
      "execution_count": 16,
      "outputs": [
        {
          "output_type": "execute_result",
          "data": {
            "text/html": [
              "<div>\n",
              "<style scoped>\n",
              "    .dataframe tbody tr th:only-of-type {\n",
              "        vertical-align: middle;\n",
              "    }\n",
              "\n",
              "    .dataframe tbody tr th {\n",
              "        vertical-align: top;\n",
              "    }\n",
              "\n",
              "    .dataframe thead th {\n",
              "        text-align: right;\n",
              "    }\n",
              "</style>\n",
              "<table border=\"1\" class=\"dataframe\">\n",
              "  <thead>\n",
              "    <tr style=\"text-align: right;\">\n",
              "      <th></th>\n",
              "      <th>Open</th>\n",
              "      <th>High</th>\n",
              "      <th>Low</th>\n",
              "      <th>Close</th>\n",
              "      <th>Adj Close</th>\n",
              "      <th>Volume</th>\n",
              "    </tr>\n",
              "    <tr>\n",
              "      <th>Date</th>\n",
              "      <th></th>\n",
              "      <th></th>\n",
              "      <th></th>\n",
              "      <th></th>\n",
              "      <th></th>\n",
              "      <th></th>\n",
              "    </tr>\n",
              "  </thead>\n",
              "  <tbody>\n",
              "    <tr>\n",
              "      <th>2013-01-02</th>\n",
              "      <td>357.385559</td>\n",
              "      <td>361.151062</td>\n",
              "      <td>355.959839</td>\n",
              "      <td>359.288177</td>\n",
              "      <td>359.288177</td>\n",
              "      <td>5115500</td>\n",
              "    </tr>\n",
              "    <tr>\n",
              "      <th>2013-01-03</th>\n",
              "      <td>360.122742</td>\n",
              "      <td>363.600128</td>\n",
              "      <td>358.031342</td>\n",
              "      <td>359.496826</td>\n",
              "      <td>359.496826</td>\n",
              "      <td>4666500</td>\n",
              "    </tr>\n",
              "    <tr>\n",
              "      <th>2013-01-04</th>\n",
              "      <td>362.313507</td>\n",
              "      <td>368.339294</td>\n",
              "      <td>361.488861</td>\n",
              "      <td>366.600616</td>\n",
              "      <td>366.600616</td>\n",
              "      <td>5562800</td>\n",
              "    </tr>\n",
              "    <tr>\n",
              "      <th>2013-01-07</th>\n",
              "      <td>365.348755</td>\n",
              "      <td>367.301056</td>\n",
              "      <td>362.929504</td>\n",
              "      <td>365.001007</td>\n",
              "      <td>365.001007</td>\n",
              "      <td>3332900</td>\n",
              "    </tr>\n",
              "    <tr>\n",
              "      <th>2013-01-08</th>\n",
              "      <td>365.393463</td>\n",
              "      <td>365.771027</td>\n",
              "      <td>359.874359</td>\n",
              "      <td>364.280701</td>\n",
              "      <td>364.280701</td>\n",
              "      <td>3373900</td>\n",
              "    </tr>\n",
              "    <tr>\n",
              "      <th>...</th>\n",
              "      <td>...</td>\n",
              "      <td>...</td>\n",
              "      <td>...</td>\n",
              "      <td>...</td>\n",
              "      <td>...</td>\n",
              "      <td>...</td>\n",
              "    </tr>\n",
              "    <tr>\n",
              "      <th>2017-12-22</th>\n",
              "      <td>1061.109985</td>\n",
              "      <td>1064.199951</td>\n",
              "      <td>1059.439941</td>\n",
              "      <td>1060.119995</td>\n",
              "      <td>1060.119995</td>\n",
              "      <td>755100</td>\n",
              "    </tr>\n",
              "    <tr>\n",
              "      <th>2017-12-26</th>\n",
              "      <td>1058.069946</td>\n",
              "      <td>1060.119995</td>\n",
              "      <td>1050.199951</td>\n",
              "      <td>1056.739990</td>\n",
              "      <td>1056.739990</td>\n",
              "      <td>760600</td>\n",
              "    </tr>\n",
              "    <tr>\n",
              "      <th>2017-12-27</th>\n",
              "      <td>1057.390015</td>\n",
              "      <td>1058.369995</td>\n",
              "      <td>1048.050049</td>\n",
              "      <td>1049.369995</td>\n",
              "      <td>1049.369995</td>\n",
              "      <td>1271900</td>\n",
              "    </tr>\n",
              "    <tr>\n",
              "      <th>2017-12-28</th>\n",
              "      <td>1051.599976</td>\n",
              "      <td>1054.750000</td>\n",
              "      <td>1044.770020</td>\n",
              "      <td>1048.140015</td>\n",
              "      <td>1048.140015</td>\n",
              "      <td>837100</td>\n",
              "    </tr>\n",
              "    <tr>\n",
              "      <th>2017-12-29</th>\n",
              "      <td>1046.719971</td>\n",
              "      <td>1049.699951</td>\n",
              "      <td>1044.900024</td>\n",
              "      <td>1046.400024</td>\n",
              "      <td>1046.400024</td>\n",
              "      <td>887500</td>\n",
              "    </tr>\n",
              "  </tbody>\n",
              "</table>\n",
              "<p>1259 rows × 6 columns</p>\n",
              "</div>"
            ],
            "text/plain": [
              "                   Open         High  ...    Adj Close   Volume\n",
              "Date                                  ...                      \n",
              "2013-01-02   357.385559   361.151062  ...   359.288177  5115500\n",
              "2013-01-03   360.122742   363.600128  ...   359.496826  4666500\n",
              "2013-01-04   362.313507   368.339294  ...   366.600616  5562800\n",
              "2013-01-07   365.348755   367.301056  ...   365.001007  3332900\n",
              "2013-01-08   365.393463   365.771027  ...   364.280701  3373900\n",
              "...                 ...          ...  ...          ...      ...\n",
              "2017-12-22  1061.109985  1064.199951  ...  1060.119995   755100\n",
              "2017-12-26  1058.069946  1060.119995  ...  1056.739990   760600\n",
              "2017-12-27  1057.390015  1058.369995  ...  1049.369995  1271900\n",
              "2017-12-28  1051.599976  1054.750000  ...  1048.140015   837100\n",
              "2017-12-29  1046.719971  1049.699951  ...  1046.400024   887500\n",
              "\n",
              "[1259 rows x 6 columns]"
            ]
          },
          "metadata": {
            "tags": []
          },
          "execution_count": 16
        }
      ]
    },
    {
      "cell_type": "code",
      "metadata": {
        "id": "ADsLvlPQM0ul",
        "outputId": "cb9962db-e2b0-4de5-a2e9-01fa7c6665f8",
        "colab": {
          "base_uri": "https://localhost:8080/",
          "height": 34
        }
      },
      "source": [
        "df_train.columns"
      ],
      "execution_count": 17,
      "outputs": [
        {
          "output_type": "execute_result",
          "data": {
            "text/plain": [
              "Index(['Open', 'High', 'Low', 'Close', 'Adj Close', 'Volume'], dtype='object')"
            ]
          },
          "metadata": {
            "tags": []
          },
          "execution_count": 17
        }
      ]
    },
    {
      "cell_type": "code",
      "metadata": {
        "id": "4RtuEDIKrI5I",
        "outputId": "785dbfa7-0788-4ff4-e016-cd03a336bcd0",
        "colab": {
          "base_uri": "https://localhost:8080/",
          "height": 34
        }
      },
      "source": [
        "df_train.shape"
      ],
      "execution_count": 18,
      "outputs": [
        {
          "output_type": "execute_result",
          "data": {
            "text/plain": [
              "(1259, 6)"
            ]
          },
          "metadata": {
            "tags": []
          },
          "execution_count": 18
        }
      ]
    },
    {
      "cell_type": "code",
      "metadata": {
        "id": "9RYxY1cRmtVx",
        "outputId": "a05bf17a-9ced-4dc3-e918-a42f7bc54d7c",
        "colab": {
          "base_uri": "https://localhost:8080/",
          "height": 136
        }
      },
      "source": [
        "df_train.isnull().sum()"
      ],
      "execution_count": 19,
      "outputs": [
        {
          "output_type": "execute_result",
          "data": {
            "text/plain": [
              "Open         0\n",
              "High         0\n",
              "Low          0\n",
              "Close        0\n",
              "Adj Close    0\n",
              "Volume       0\n",
              "dtype: int64"
            ]
          },
          "metadata": {
            "tags": []
          },
          "execution_count": 19
        }
      ]
    },
    {
      "cell_type": "code",
      "metadata": {
        "id": "4QI5yOMthggM",
        "outputId": "060b4128-f6b9-4c7e-be5a-1c5c93554c51",
        "colab": {
          "base_uri": "https://localhost:8080/",
          "height": 283
        }
      },
      "source": [
        "import matplotlib.pyplot as plt\n",
        "%matplotlib inline\n",
        "import seaborn as sns\n",
        "sns.heatmap(df_train.isnull())"
      ],
      "execution_count": 20,
      "outputs": [
        {
          "output_type": "execute_result",
          "data": {
            "text/plain": [
              "<matplotlib.axes._subplots.AxesSubplot at 0x7f7854c45400>"
            ]
          },
          "metadata": {
            "tags": []
          },
          "execution_count": 20
        },
        {
          "output_type": "display_data",
          "data": {
            "image/png": "[encoded data removed]",
            "text/plain": [
              "<Figure size 432x288 with 2 Axes>"
            ]
          },
          "metadata": {
            "tags": [],
            "needs_background": "light"
          }
        }
      ]
    },
    {
      "cell_type": "code",
      "metadata": {
        "id": "-kYHFcY1LfaA",
        "outputId": "6a1070dd-7f49-458d-9dee-d21b35dff1d6",
        "colab": {
          "base_uri": "https://localhost:8080/",
          "height": 136
        }
      },
      "source": [
        "# Checking for missing values\n",
        "training_set = df_train.iloc[:,0:1].values\n",
        "training_set\n"
      ],
      "execution_count": 74,
      "outputs": [
        {
          "output_type": "execute_result",
          "data": {
            "text/plain": [
              "array([[ 357.385559],\n",
              "       [ 360.122742],\n",
              "       [ 362.313507],\n",
              "       ...,\n",
              "       [1057.390015],\n",
              "       [1051.599976],\n",
              "       [1046.719971]])"
            ]
          },
          "metadata": {
            "tags": []
          },
          "execution_count": 74
        }
      ]
    },
    {
      "cell_type": "code",
      "metadata": {
        "id": "Y4OqdMOQKLHY"
      },
      "source": [
        "# Scaling the training set\n",
        "sc = MinMaxScaler(feature_range=(0,1))\n",
        "training_set_scaled = sc.fit_transform(training_set)"
      ],
      "execution_count": 75,
      "outputs": []
    },
    {
      "cell_type": "code",
      "metadata": {
        "id": "ztS1EeM0cTnp"
      },
      "source": [
        "# Since LSTMs store long term memory state, we create a data structure with 60 timesteps and 1 output\n",
        "# So for each element of training set, we have 60 previous training set elements \n",
        "X_train = []\n",
        "y_train = []\n",
        "for i in range(60,1259):\n",
        "    X_train.append(training_set_scaled[i-60:i,0])\n",
        "    y_train.append(training_set_scaled[i,0])\n",
        "X_train, y_train = np.array(X_train), np.array(y_train)"
      ],
      "execution_count": 76,
      "outputs": []
    },
    {
      "cell_type": "code",
      "metadata": {
        "id": "xfRkPN9TcH0w",
        "outputId": "95a97c49-ed31-4578-dba6-9d7fd283fe94",
        "colab": {
          "base_uri": "https://localhost:8080/",
          "height": 34
        }
      },
      "source": [
        "X_train.shape"
      ],
      "execution_count": 77,
      "outputs": [
        {
          "output_type": "execute_result",
          "data": {
            "text/plain": [
              "(1199, 60)"
            ]
          },
          "metadata": {
            "tags": []
          },
          "execution_count": 77
        }
      ]
    },
    {
      "cell_type": "code",
      "metadata": {
        "id": "4l3O1D2I5xSb",
        "outputId": "a99e3426-61f4-4716-c8b6-7e42ec10d272",
        "colab": {
          "base_uri": "https://localhost:8080/",
          "height": 34
        }
      },
      "source": [
        "y_train.shape"
      ],
      "execution_count": 78,
      "outputs": [
        {
          "output_type": "execute_result",
          "data": {
            "text/plain": [
              "(1199,)"
            ]
          },
          "metadata": {
            "tags": []
          },
          "execution_count": 78
        }
      ]
    },
    {
      "cell_type": "code",
      "metadata": {
        "id": "Jftbg2kV5xOt",
        "outputId": "0fadb427-70c9-467d-9ab6-5a985cd0cd7b",
        "colab": {
          "base_uri": "https://localhost:8080/",
          "height": 34
        }
      },
      "source": [
        "# Reshaping X_train for efficient modelling\n",
        "X_train = np.reshape(X_train, (X_train.shape[0],X_train.shape[1],1))\n",
        "X_train.shape"
      ],
      "execution_count": 79,
      "outputs": [
        {
          "output_type": "execute_result",
          "data": {
            "text/plain": [
              "(1199, 60, 1)"
            ]
          },
          "metadata": {
            "tags": []
          },
          "execution_count": 79
        }
      ]
    },
    {
      "cell_type": "code",
      "metadata": {
        "id": "SrYVvTAd9FUY",
        "outputId": "731aa9a4-8357-4126-ad3f-77396e6f4e75",
        "colab": {
          "base_uri": "https://localhost:8080/",
          "height": 1000
        }
      },
      "source": [
        "# The LSTM architecture\n",
        "regressor = Sequential()\n",
        "# First LSTM layer with Dropout regularisation\n",
        "regressor.add(LSTM(units=50, return_sequences=True, input_shape=(X_train.shape[1],1)))\n",
        "regressor.add(Dropout(0.2))\n",
        "# Second LSTM layer\n",
        "regressor.add(LSTM(units=50, return_sequences=True))\n",
        "regressor.add(Dropout(0.2))\n",
        "# Third LSTM layer\n",
        "regressor.add(LSTM(units=50))\n",
        "regressor.add(Dropout(0.2))\n",
        "# The output layer\n",
        "regressor.add(Dense(units=1))\n",
        "\n",
        "# Compiling the RNN\n",
        "regressor.compile(optimizer='adam',loss='mean_squared_error')\n",
        "# Fitting to the training set\n",
        "regressor.fit(X_train,y_train,epochs=100,batch_size=32)"
      ],
      "execution_count": 87,
      "outputs": [
        {
          "output_type": "stream",
          "text": [
            "Epoch 1/100\n",
            "38/38 [==============================] - 1s 39ms/step - loss: 0.0299\n",
            "Epoch 2/100\n",
            "38/38 [==============================] - 1s 39ms/step - loss: 0.0048\n",
            "Epoch 3/100\n",
            "38/38 [==============================] - 1s 39ms/step - loss: 0.0035\n",
            "Epoch 4/100\n",
            "38/38 [==============================] - 1s 39ms/step - loss: 0.0037\n",
            "Epoch 5/100\n",
            "38/38 [==============================] - 1s 39ms/step - loss: 0.0033\n",
            "Epoch 6/100\n",
            "38/38 [==============================] - 1s 39ms/step - loss: 0.0030\n",
            "Epoch 7/100\n",
            "38/38 [==============================] - 1s 39ms/step - loss: 0.0033\n",
            "Epoch 8/100\n",
            "38/38 [==============================] - 1s 39ms/step - loss: 0.0028\n",
            "Epoch 9/100\n",
            "38/38 [==============================] - 1s 39ms/step - loss: 0.0031\n",
            "Epoch 10/100\n",
            "38/38 [==============================] - 1s 39ms/step - loss: 0.0032\n",
            "Epoch 11/100\n",
            "38/38 [==============================] - 1s 39ms/step - loss: 0.0030\n",
            "Epoch 12/100\n",
            "38/38 [==============================] - 1s 39ms/step - loss: 0.0028\n",
            "Epoch 13/100\n",
            "38/38 [==============================] - 2s 39ms/step - loss: 0.0038\n",
            "Epoch 14/100\n",
            "38/38 [==============================] - 1s 39ms/step - loss: 0.0029\n",
            "Epoch 15/100\n",
            "38/38 [==============================] - 1s 39ms/step - loss: 0.0027\n",
            "Epoch 16/100\n",
            "38/38 [==============================] - 1s 39ms/step - loss: 0.0028\n",
            "Epoch 17/100\n",
            "38/38 [==============================] - 1s 39ms/step - loss: 0.0023\n",
            "Epoch 18/100\n",
            "38/38 [==============================] - 1s 39ms/step - loss: 0.0022\n",
            "Epoch 19/100\n",
            "38/38 [==============================] - 1s 39ms/step - loss: 0.0023\n",
            "Epoch 20/100\n",
            "38/38 [==============================] - 1s 39ms/step - loss: 0.0027\n",
            "Epoch 21/100\n",
            "38/38 [==============================] - 1s 39ms/step - loss: 0.0023\n",
            "Epoch 22/100\n",
            "38/38 [==============================] - 1s 39ms/step - loss: 0.0025\n",
            "Epoch 23/100\n",
            "38/38 [==============================] - 1s 39ms/step - loss: 0.0024\n",
            "Epoch 24/100\n",
            "38/38 [==============================] - 1s 39ms/step - loss: 0.0027\n",
            "Epoch 25/100\n",
            "38/38 [==============================] - 1s 39ms/step - loss: 0.0022\n",
            "Epoch 26/100\n",
            "38/38 [==============================] - 1s 39ms/step - loss: 0.0021\n",
            "Epoch 27/100\n",
            "38/38 [==============================] - 1s 39ms/step - loss: 0.0021\n",
            "Epoch 28/100\n",
            "38/38 [==============================] - 1s 39ms/step - loss: 0.0021\n",
            "Epoch 29/100\n",
            "38/38 [==============================] - 1s 39ms/step - loss: 0.0023\n",
            "Epoch 30/100\n",
            "38/38 [==============================] - 1s 39ms/step - loss: 0.0019\n",
            "Epoch 31/100\n",
            "38/38 [==============================] - 1s 39ms/step - loss: 0.0023\n",
            "Epoch 32/100\n",
            "38/38 [==============================] - 1s 39ms/step - loss: 0.0021\n",
            "Epoch 33/100\n",
            "38/38 [==============================] - 1s 39ms/step - loss: 0.0019\n",
            "Epoch 34/100\n",
            "38/38 [==============================] - 1s 39ms/step - loss: 0.0017\n",
            "Epoch 35/100\n",
            "38/38 [==============================] - 1s 39ms/step - loss: 0.0019\n",
            "Epoch 36/100\n",
            "38/38 [==============================] - 1s 39ms/step - loss: 0.0018\n",
            "Epoch 37/100\n",
            "38/38 [==============================] - 1s 39ms/step - loss: 0.0019\n",
            "Epoch 38/100\n",
            "38/38 [==============================] - 2s 40ms/step - loss: 0.0018\n",
            "Epoch 39/100\n",
            "38/38 [==============================] - 1s 39ms/step - loss: 0.0017\n",
            "Epoch 40/100\n",
            "38/38 [==============================] - 1s 39ms/step - loss: 0.0018\n",
            "Epoch 41/100\n",
            "38/38 [==============================] - 1s 39ms/step - loss: 0.0016\n",
            "Epoch 42/100\n",
            "38/38 [==============================] - 1s 39ms/step - loss: 0.0018\n",
            "Epoch 43/100\n",
            "38/38 [==============================] - 1s 39ms/step - loss: 0.0016\n",
            "Epoch 44/100\n",
            "38/38 [==============================] - 1s 39ms/step - loss: 0.0016\n",
            "Epoch 45/100\n",
            "38/38 [==============================] - 1s 39ms/step - loss: 0.0016\n",
            "Epoch 46/100\n",
            "38/38 [==============================] - 1s 39ms/step - loss: 0.0017\n",
            "Epoch 47/100\n",
            "38/38 [==============================] - 1s 39ms/step - loss: 0.0015\n",
            "Epoch 48/100\n",
            "38/38 [==============================] - 1s 39ms/step - loss: 0.0016\n",
            "Epoch 49/100\n",
            "38/38 [==============================] - 1s 39ms/step - loss: 0.0015\n",
            "Epoch 50/100\n",
            "38/38 [==============================] - 1s 39ms/step - loss: 0.0015\n",
            "Epoch 51/100\n",
            "38/38 [==============================] - 1s 39ms/step - loss: 0.0015\n",
            "Epoch 52/100\n",
            "38/38 [==============================] - 1s 39ms/step - loss: 0.0016\n",
            "Epoch 53/100\n",
            "38/38 [==============================] - 1s 39ms/step - loss: 0.0015\n",
            "Epoch 54/100\n",
            "38/38 [==============================] - 1s 39ms/step - loss: 0.0015\n",
            "Epoch 55/100\n",
            "38/38 [==============================] - 1s 39ms/step - loss: 0.0014\n",
            "Epoch 56/100\n",
            "38/38 [==============================] - 1s 39ms/step - loss: 0.0014\n",
            "Epoch 57/100\n",
            "38/38 [==============================] - 1s 39ms/step - loss: 0.0014\n",
            "Epoch 58/100\n",
            "38/38 [==============================] - 1s 39ms/step - loss: 0.0014\n",
            "Epoch 59/100\n",
            "38/38 [==============================] - 1s 39ms/step - loss: 0.0014\n",
            "Epoch 60/100\n",
            "38/38 [==============================] - 1s 39ms/step - loss: 0.0013\n",
            "Epoch 61/100\n",
            "38/38 [==============================] - 1s 39ms/step - loss: 0.0013\n",
            "Epoch 62/100\n",
            "38/38 [==============================] - 2s 40ms/step - loss: 0.0014\n",
            "Epoch 63/100\n",
            "38/38 [==============================] - 1s 39ms/step - loss: 0.0015\n",
            "Epoch 64/100\n",
            "38/38 [==============================] - 1s 39ms/step - loss: 0.0013\n",
            "Epoch 65/100\n",
            "38/38 [==============================] - 1s 39ms/step - loss: 0.0014\n",
            "Epoch 66/100\n",
            "38/38 [==============================] - 2s 40ms/step - loss: 0.0013\n",
            "Epoch 67/100\n",
            "38/38 [==============================] - 1s 39ms/step - loss: 0.0014\n",
            "Epoch 68/100\n",
            "38/38 [==============================] - 1s 39ms/step - loss: 0.0013\n",
            "Epoch 69/100\n",
            "38/38 [==============================] - 1s 39ms/step - loss: 0.0013\n",
            "Epoch 70/100\n",
            "38/38 [==============================] - 1s 39ms/step - loss: 0.0012\n",
            "Epoch 71/100\n",
            "38/38 [==============================] - 1s 39ms/step - loss: 0.0013\n",
            "Epoch 72/100\n",
            "38/38 [==============================] - 1s 39ms/step - loss: 0.0012\n",
            "Epoch 73/100\n",
            "38/38 [==============================] - 1s 39ms/step - loss: 0.0014\n",
            "Epoch 74/100\n",
            "38/38 [==============================] - 1s 39ms/step - loss: 0.0012\n",
            "Epoch 75/100\n",
            "38/38 [==============================] - 1s 39ms/step - loss: 0.0012\n",
            "Epoch 76/100\n",
            "38/38 [==============================] - 1s 39ms/step - loss: 0.0014\n",
            "Epoch 77/100\n",
            "38/38 [==============================] - 1s 39ms/step - loss: 0.0015\n",
            "Epoch 78/100\n",
            "38/38 [==============================] - 1s 39ms/step - loss: 0.0014\n",
            "Epoch 79/100\n",
            "38/38 [==============================] - 1s 39ms/step - loss: 0.0012\n",
            "Epoch 80/100\n",
            "38/38 [==============================] - 2s 40ms/step - loss: 0.0011\n",
            "Epoch 81/100\n",
            "38/38 [==============================] - 2s 40ms/step - loss: 0.0012\n",
            "Epoch 82/100\n",
            "38/38 [==============================] - 1s 39ms/step - loss: 0.0011\n",
            "Epoch 83/100\n",
            "38/38 [==============================] - 1s 39ms/step - loss: 0.0010\n",
            "Epoch 84/100\n",
            "38/38 [==============================] - 1s 39ms/step - loss: 0.0010\n",
            "Epoch 85/100\n",
            "38/38 [==============================] - 1s 39ms/step - loss: 0.0011\n",
            "Epoch 86/100\n",
            "38/38 [==============================] - 1s 39ms/step - loss: 0.0014\n",
            "Epoch 87/100\n",
            "38/38 [==============================] - 1s 39ms/step - loss: 0.0011\n",
            "Epoch 88/100\n",
            "38/38 [==============================] - 1s 39ms/step - loss: 9.3673e-04\n",
            "Epoch 89/100\n",
            "38/38 [==============================] - 1s 39ms/step - loss: 0.0011\n",
            "Epoch 90/100\n",
            "38/38 [==============================] - 1s 39ms/step - loss: 0.0011\n",
            "Epoch 91/100\n",
            "38/38 [==============================] - 1s 39ms/step - loss: 9.8621e-04\n",
            "Epoch 92/100\n",
            "38/38 [==============================] - 1s 39ms/step - loss: 0.0010\n",
            "Epoch 93/100\n",
            "38/38 [==============================] - 2s 40ms/step - loss: 0.0010\n",
            "Epoch 94/100\n",
            "38/38 [==============================] - 1s 39ms/step - loss: 9.5214e-04\n",
            "Epoch 95/100\n",
            "38/38 [==============================] - 2s 39ms/step - loss: 9.8375e-04\n",
            "Epoch 96/100\n",
            "38/38 [==============================] - 1s 39ms/step - loss: 9.5896e-04\n",
            "Epoch 97/100\n",
            "38/38 [==============================] - 2s 40ms/step - loss: 9.4922e-04\n",
            "Epoch 98/100\n",
            "38/38 [==============================] - 1s 39ms/step - loss: 8.9210e-04\n",
            "Epoch 99/100\n",
            "38/38 [==============================] - 1s 39ms/step - loss: 9.6430e-04\n",
            "Epoch 100/100\n",
            "38/38 [==============================] - 2s 40ms/step - loss: 0.0011\n"
          ],
          "name": "stdout"
        },
        {
          "output_type": "execute_result",
          "data": {
            "text/plain": [
              "<tensorflow.python.keras.callbacks.History at 0x7f783f493f60>"
            ]
          },
          "metadata": {
            "tags": []
          },
          "execution_count": 87
        }
      ]
    },
    {
      "cell_type": "code",
      "metadata": {
        "id": "LC3VXIBs-ud0",
        "outputId": "c92cc1cd-79ad-4adc-a84d-bbed18a1a3a9",
        "colab": {
          "base_uri": "https://localhost:8080/",
          "height": 450
        }
      },
      "source": [
        "import pandas as pd\n",
        "df_test=pd.read_csv(file2,index_col='Date', parse_dates=['Date'])\n",
        "df_test"
      ],
      "execution_count": 88,
      "outputs": [
        {
          "output_type": "execute_result",
          "data": {
            "text/html": [
              "<div>\n",
              "<style scoped>\n",
              "    .dataframe tbody tr th:only-of-type {\n",
              "        vertical-align: middle;\n",
              "    }\n",
              "\n",
              "    .dataframe tbody tr th {\n",
              "        vertical-align: top;\n",
              "    }\n",
              "\n",
              "    .dataframe thead th {\n",
              "        text-align: right;\n",
              "    }\n",
              "</style>\n",
              "<table border=\"1\" class=\"dataframe\">\n",
              "  <thead>\n",
              "    <tr style=\"text-align: right;\">\n",
              "      <th></th>\n",
              "      <th>Open</th>\n",
              "      <th>High</th>\n",
              "      <th>Low</th>\n",
              "      <th>Close</th>\n",
              "      <th>Adj Close</th>\n",
              "      <th>Volume</th>\n",
              "    </tr>\n",
              "    <tr>\n",
              "      <th>Date</th>\n",
              "      <th></th>\n",
              "      <th></th>\n",
              "      <th></th>\n",
              "      <th></th>\n",
              "      <th></th>\n",
              "      <th></th>\n",
              "    </tr>\n",
              "  </thead>\n",
              "  <tbody>\n",
              "    <tr>\n",
              "      <th>2018-01-02</th>\n",
              "      <td>1048.339966</td>\n",
              "      <td>1066.939941</td>\n",
              "      <td>1045.229980</td>\n",
              "      <td>1065.000000</td>\n",
              "      <td>1065.000000</td>\n",
              "      <td>1237600</td>\n",
              "    </tr>\n",
              "    <tr>\n",
              "      <th>2018-01-03</th>\n",
              "      <td>1064.310059</td>\n",
              "      <td>1086.290039</td>\n",
              "      <td>1063.209961</td>\n",
              "      <td>1082.479980</td>\n",
              "      <td>1082.479980</td>\n",
              "      <td>1430200</td>\n",
              "    </tr>\n",
              "    <tr>\n",
              "      <th>2018-01-04</th>\n",
              "      <td>1088.000000</td>\n",
              "      <td>1093.569946</td>\n",
              "      <td>1084.001953</td>\n",
              "      <td>1086.400024</td>\n",
              "      <td>1086.400024</td>\n",
              "      <td>1004600</td>\n",
              "    </tr>\n",
              "    <tr>\n",
              "      <th>2018-01-05</th>\n",
              "      <td>1094.000000</td>\n",
              "      <td>1104.250000</td>\n",
              "      <td>1092.000000</td>\n",
              "      <td>1102.229980</td>\n",
              "      <td>1102.229980</td>\n",
              "      <td>1279100</td>\n",
              "    </tr>\n",
              "    <tr>\n",
              "      <th>2018-01-08</th>\n",
              "      <td>1102.229980</td>\n",
              "      <td>1111.270020</td>\n",
              "      <td>1101.619995</td>\n",
              "      <td>1106.939941</td>\n",
              "      <td>1106.939941</td>\n",
              "      <td>1047600</td>\n",
              "    </tr>\n",
              "    <tr>\n",
              "      <th>...</th>\n",
              "      <td>...</td>\n",
              "      <td>...</td>\n",
              "      <td>...</td>\n",
              "      <td>...</td>\n",
              "      <td>...</td>\n",
              "      <td>...</td>\n",
              "    </tr>\n",
              "    <tr>\n",
              "      <th>2018-06-25</th>\n",
              "      <td>1143.599976</td>\n",
              "      <td>1143.910034</td>\n",
              "      <td>1112.780029</td>\n",
              "      <td>1124.810059</td>\n",
              "      <td>1124.810059</td>\n",
              "      <td>2157300</td>\n",
              "    </tr>\n",
              "    <tr>\n",
              "      <th>2018-06-26</th>\n",
              "      <td>1128.000000</td>\n",
              "      <td>1133.209961</td>\n",
              "      <td>1116.659058</td>\n",
              "      <td>1118.459961</td>\n",
              "      <td>1118.459961</td>\n",
              "      <td>1563200</td>\n",
              "    </tr>\n",
              "    <tr>\n",
              "      <th>2018-06-27</th>\n",
              "      <td>1121.339966</td>\n",
              "      <td>1131.836060</td>\n",
              "      <td>1103.619995</td>\n",
              "      <td>1103.979980</td>\n",
              "      <td>1103.979980</td>\n",
              "      <td>1293900</td>\n",
              "    </tr>\n",
              "    <tr>\n",
              "      <th>2018-06-28</th>\n",
              "      <td>1102.089966</td>\n",
              "      <td>1122.310059</td>\n",
              "      <td>1096.010010</td>\n",
              "      <td>1114.219971</td>\n",
              "      <td>1114.219971</td>\n",
              "      <td>1072400</td>\n",
              "    </tr>\n",
              "    <tr>\n",
              "      <th>2018-06-29</th>\n",
              "      <td>1120.000000</td>\n",
              "      <td>1128.227051</td>\n",
              "      <td>1115.000000</td>\n",
              "      <td>1115.650024</td>\n",
              "      <td>1115.650024</td>\n",
              "      <td>1315100</td>\n",
              "    </tr>\n",
              "  </tbody>\n",
              "</table>\n",
              "<p>125 rows × 6 columns</p>\n",
              "</div>"
            ],
            "text/plain": [
              "                   Open         High  ...    Adj Close   Volume\n",
              "Date                                  ...                      \n",
              "2018-01-02  1048.339966  1066.939941  ...  1065.000000  1237600\n",
              "2018-01-03  1064.310059  1086.290039  ...  1082.479980  1430200\n",
              "2018-01-04  1088.000000  1093.569946  ...  1086.400024  1004600\n",
              "2018-01-05  1094.000000  1104.250000  ...  1102.229980  1279100\n",
              "2018-01-08  1102.229980  1111.270020  ...  1106.939941  1047600\n",
              "...                 ...          ...  ...          ...      ...\n",
              "2018-06-25  1143.599976  1143.910034  ...  1124.810059  2157300\n",
              "2018-06-26  1128.000000  1133.209961  ...  1118.459961  1563200\n",
              "2018-06-27  1121.339966  1131.836060  ...  1103.979980  1293900\n",
              "2018-06-28  1102.089966  1122.310059  ...  1114.219971  1072400\n",
              "2018-06-29  1120.000000  1128.227051  ...  1115.650024  1315100\n",
              "\n",
              "[125 rows x 6 columns]"
            ]
          },
          "metadata": {
            "tags": []
          },
          "execution_count": 88
        }
      ]
    },
    {
      "cell_type": "code",
      "metadata": {
        "id": "wic95mhP-u0h",
        "outputId": "5907c24f-7839-4f68-ea64-22d6615694e4",
        "colab": {
          "base_uri": "https://localhost:8080/",
          "height": 1000
        }
      },
      "source": [
        "real_stock_price = df_test.iloc[:,0:1].values\n",
        "real_stock_price"
      ],
      "execution_count": 89,
      "outputs": [
        {
          "output_type": "execute_result",
          "data": {
            "text/plain": [
              "array([[1048.339966],\n",
              "       [1064.310059],\n",
              "       [1088.      ],\n",
              "       [1094.      ],\n",
              "       [1102.22998 ],\n",
              "       [1109.400024],\n",
              "       [1097.099976],\n",
              "       [1106.300049],\n",
              "       [1102.410034],\n",
              "       [1132.51001 ],\n",
              "       [1126.219971],\n",
              "       [1131.410034],\n",
              "       [1131.829956],\n",
              "       [1137.48999 ],\n",
              "       [1159.849976],\n",
              "       [1177.329956],\n",
              "       [1172.530029],\n",
              "       [1175.079956],\n",
              "       [1176.47998 ],\n",
              "       [1167.829956],\n",
              "       [1170.569946],\n",
              "       [1162.609985],\n",
              "       [1122.      ],\n",
              "       [1090.599976],\n",
              "       [1027.180054],\n",
              "       [1081.540039],\n",
              "       [1055.410034],\n",
              "       [1017.25    ],\n",
              "       [1048.      ],\n",
              "       [1045.      ],\n",
              "       [1048.949951],\n",
              "       [1079.069946],\n",
              "       [1088.410034],\n",
              "       [1090.569946],\n",
              "       [1106.469971],\n",
              "       [1116.189941],\n",
              "       [1112.640015],\n",
              "       [1127.800049],\n",
              "       [1141.23999 ],\n",
              "       [1123.030029],\n",
              "       [1107.869995],\n",
              "       [1053.079956],\n",
              "       [1075.140015],\n",
              "       [1099.219971],\n",
              "       [1089.189941],\n",
              "       [1115.319946],\n",
              "       [1136.      ],\n",
              "       [1163.849976],\n",
              "       [1170.      ],\n",
              "       [1145.209961],\n",
              "       [1149.959961],\n",
              "       [1154.140015],\n",
              "       [1120.01001 ],\n",
              "       [1099.      ],\n",
              "       [1092.73999 ],\n",
              "       [1081.880005],\n",
              "       [1047.030029],\n",
              "       [1046.      ],\n",
              "       [1063.      ],\n",
              "       [ 998.      ],\n",
              "       [1011.630005],\n",
              "       [1022.820007],\n",
              "       [1013.909973],\n",
              "       [ 993.409973],\n",
              "       [1041.329956],\n",
              "       [1020.      ],\n",
              "       [1016.799988],\n",
              "       [1026.439941],\n",
              "       [1027.98999 ],\n",
              "       [1025.040039],\n",
              "       [1040.880005],\n",
              "       [1037.      ],\n",
              "       [1051.369995],\n",
              "       [1077.430054],\n",
              "       [1069.400024],\n",
              "       [1082.      ],\n",
              "       [1077.859985],\n",
              "       [1052.      ],\n",
              "       [1025.52002 ],\n",
              "       [1029.51001 ],\n",
              "       [1046.      ],\n",
              "       [1030.01001 ],\n",
              "       [1013.659973],\n",
              "       [1028.099976],\n",
              "       [1019.      ],\n",
              "       [1016.900024],\n",
              "       [1049.22998 ],\n",
              "       [1058.540039],\n",
              "       [1058.099976],\n",
              "       [1086.030029],\n",
              "       [1093.599976],\n",
              "       [1100.      ],\n",
              "       [1090.      ],\n",
              "       [1077.310059],\n",
              "       [1079.890015],\n",
              "       [1061.859985],\n",
              "       [1074.060059],\n",
              "       [1083.560059],\n",
              "       [1065.130005],\n",
              "       [1079.      ],\n",
              "       [1079.02002 ],\n",
              "       [1064.890015],\n",
              "       [1063.030029],\n",
              "       [1067.560059],\n",
              "       [1099.349976],\n",
              "       [1122.329956],\n",
              "       [1140.98999 ],\n",
              "       [1142.170044],\n",
              "       [1131.319946],\n",
              "       [1118.180054],\n",
              "       [1118.599976],\n",
              "       [1131.069946],\n",
              "       [1141.119995],\n",
              "       [1143.849976],\n",
              "       [1148.859985],\n",
              "       [1143.650024],\n",
              "       [1158.5     ],\n",
              "       [1175.310059],\n",
              "       [1174.849976],\n",
              "       [1159.140015],\n",
              "       [1143.599976],\n",
              "       [1128.      ],\n",
              "       [1121.339966],\n",
              "       [1102.089966],\n",
              "       [1120.      ]])"
            ]
          },
          "metadata": {
            "tags": []
          },
          "execution_count": 89
        }
      ]
    },
    {
      "cell_type": "code",
      "metadata": {
        "id": "JV9vnRf15xLu",
        "outputId": "9318e7dc-baa6-401d-90dd-470b03286dd9",
        "colab": {
          "base_uri": "https://localhost:8080/",
          "height": 34
        }
      },
      "source": [
        "# Now to get the test set ready in a similar way as the training set.\n",
        "# The following has been done so forst 60 entires of test set have 60 previous values which is impossible to get unless we take the whole \n",
        "# 'Open' attribute data for processing\n",
        "dataset_total = pd.concat((df_train[\"Open\"],df_test[\"Open\"]),axis=0)\n",
        "inputs = dataset_total.iloc[1199:].values\n",
        "inputs = inputs.reshape(-1,1)\n",
        "inputs  = sc.transform(inputs)\n",
        "inputs.shape\n"
      ],
      "execution_count": 90,
      "outputs": [
        {
          "output_type": "execute_result",
          "data": {
            "text/plain": [
              "(185, 1)"
            ]
          },
          "metadata": {
            "tags": []
          },
          "execution_count": 90
        }
      ]
    },
    {
      "cell_type": "code",
      "metadata": {
        "id": "Q6iDuHM_4teP",
        "outputId": "12730a0f-ad12-44f8-e5f6-1f543ce2f018",
        "colab": {
          "base_uri": "https://localhost:8080/",
          "height": 1000
        }
      },
      "source": [
        "X_test = []\n",
        "for i in range(60,185):\n",
        "    X_test.append(inputs[i-60:i,0])\n",
        "X_test = np.array(X_test)\n",
        "X_test = np.reshape(X_test, (X_test.shape[0],X_test.shape[1],1))\n",
        "predicted_stock_price = regressor.predict(X_test)\n",
        "predicted_stock_price = sc.inverse_transform(predicted_stock_price)\n",
        "predicted_stock_price"
      ],
      "execution_count": 91,
      "outputs": [
        {
          "output_type": "execute_result",
          "data": {
            "text/plain": [
              "array([[1038.6207 ],\n",
              "       [1036.5087 ],\n",
              "       [1038.1293 ],\n",
              "       [1045.7637 ],\n",
              "       [1056.3746 ],\n",
              "       [1067.2788 ],\n",
              "       [1076.7662 ],\n",
              "       [1081.1802 ],\n",
              "       [1083.0586 ],\n",
              "       [1082.8958 ],\n",
              "       [1086.8657 ],\n",
              "       [1092.0514 ],\n",
              "       [1097.4924 ],\n",
              "       [1101.9116 ],\n",
              "       [1105.7346 ],\n",
              "       [1112.2859 ],\n",
              "       [1122.2928 ],\n",
              "       [1131.347  ],\n",
              "       [1137.9387 ],\n",
              "       [1141.9097 ],\n",
              "       [1142.347  ],\n",
              "       [1141.4044 ],\n",
              "       [1139.091  ],\n",
              "       [1130.2516 ],\n",
              "       [1114.5172 ],\n",
              "       [1088.576  ],\n",
              "       [1070.5576 ],\n",
              "       [1058.8861 ],\n",
              "       [1047.1588 ],\n",
              "       [1041.5803 ],\n",
              "       [1040.5806 ],\n",
              "       [1042.529  ],\n",
              "       [1049.994  ],\n",
              "       [1060.3779 ],\n",
              "       [1069.814  ],\n",
              "       [1078.5022 ],\n",
              "       [1086.2484 ],\n",
              "       [1091.0463 ],\n",
              "       [1095.4149 ],\n",
              "       [1101.0814 ],\n",
              "       [1103.4761 ],\n",
              "       [1100.7296 ],\n",
              "       [1086.8944 ],\n",
              "       [1072.9644 ],\n",
              "       [1067.1842 ],\n",
              "       [1066.8622 ],\n",
              "       [1073.6704 ],\n",
              "       [1086.4163 ],\n",
              "       [1103.993  ],\n",
              "       [1120.958  ],\n",
              "       [1128.9204 ],\n",
              "       [1130.2144 ],\n",
              "       [1128.6188 ],\n",
              "       [1120.9253 ],\n",
              "       [1108.2091 ],\n",
              "       [1094.7769 ],\n",
              "       [1082.7856 ],\n",
              "       [1069.0435 ],\n",
              "       [1056.7131 ],\n",
              "       [1050.7452 ],\n",
              "       [1039.8225 ],\n",
              "       [1028.9629 ],\n",
              "       [1022.3998 ],\n",
              "       [1018.57245],\n",
              "       [1013.33075],\n",
              "       [1015.13074],\n",
              "       [1017.8234 ],\n",
              "       [1018.90216],\n",
              "       [1019.7195 ],\n",
              "       [1020.3934 ],\n",
              "       [1020.21655],\n",
              "       [1021.92224],\n",
              "       [1023.9032 ],\n",
              "       [1027.6885 ],\n",
              "       [1036.0538 ],\n",
              "       [1044.1437 ],\n",
              "       [1051.8224 ],\n",
              "       [1056.8768 ],\n",
              "       [1055.013  ],\n",
              "       [1045.1176 ],\n",
              "       [1033.4628 ],\n",
              "       [1026.7998 ],\n",
              "       [1022.81903],\n",
              "       [1018.3443 ],\n",
              "       [1016.3632 ],\n",
              "       [1015.04785],\n",
              "       [1013.7823 ],\n",
              "       [1017.8541 ],\n",
              "       [1026.1759 ],\n",
              "       [1034.8076 ],\n",
              "       [1045.743  ],\n",
              "       [1056.9635 ],\n",
              "       [1066.7166 ],\n",
              "       [1071.6848 ],\n",
              "       [1070.6049 ],\n",
              "       [1066.8646 ],\n",
              "       [1060.1333 ],\n",
              "       [1055.3605 ],\n",
              "       [1054.995  ],\n",
              "       [1054.6327 ],\n",
              "       [1056.1631 ],\n",
              "       [1058.6362 ],\n",
              "       [1058.7524 ],\n",
              "       [1056.8715 ],\n",
              "       [1055.0598 ],\n",
              "       [1059.1493 ],\n",
              "       [1070.1661 ],\n",
              "       [1085.8112 ],\n",
              "       [1100.3145 ],\n",
              "       [1108.4427 ],\n",
              "       [1108.6415 ],\n",
              "       [1104.5592 ],\n",
              "       [1101.6975 ],\n",
              "       [1102.6826 ],\n",
              "       [1106.554  ],\n",
              "       [1112.012  ],\n",
              "       [1116.2012 ],\n",
              "       [1121.0161 ],\n",
              "       [1128.1718 ],\n",
              "       [1135.2277 ],\n",
              "       [1137.915  ],\n",
              "       [1134.7915 ],\n",
              "       [1126.6973 ],\n",
              "       [1116.8962 ],\n",
              "       [1105.7651 ]], dtype=float32)"
            ]
          },
          "metadata": {
            "tags": []
          },
          "execution_count": 91
        }
      ]
    },
    {
      "cell_type": "code",
      "metadata": {
        "id": "6iUULDKiRpqK",
        "outputId": "adea8a2c-2572-4e92-cbae-27e153070a1e",
        "colab": {
          "base_uri": "https://localhost:8080/",
          "height": 296
        }
      },
      "source": [
        "plt.plot(real_stock_price, color='red',label='Real Google Stock Price')\n",
        "plt.plot(predicted_stock_price, color='blue',label='Predicted Google Stock Price')\n",
        "plt.title('IBM Stock Price Prediction')\n",
        "plt.xlabel('Time')\n",
        "plt.ylabel('IBM Stock Price')\n",
        "plt.legend()\n",
        "plt.show()"
      ],
      "execution_count": 92,
      "outputs": [
        {
          "output_type": "display_data",
          "data": {
            "image/png": "[encoded data removed]",
            "text/plain": [
              "<Figure size 432x288 with 1 Axes>"
            ]
          },
          "metadata": {
            "tags": [],
            "needs_background": "light"
          }
        }
      ]
    },
    {
      "cell_type": "code",
      "metadata": {
        "id": "C2KoF4RnRJgY",
        "outputId": "d69dac9d-edbd-439b-ea4b-a5fec491f9c1",
        "colab": {
          "base_uri": "https://localhost:8080/",
          "height": 34
        }
      },
      "source": [
        "rmse = math.sqrt(mean_squared_error(real_stock_price,predicted_stock_price))\n",
        "print(\"The root mean squared error is {}.\".format(rmse))"
      ],
      "execution_count": 94,
      "outputs": [
        {
          "output_type": "stream",
          "text": [
            "The root mean squared error is 33.344406529971245.\n"
          ],
          "name": "stdout"
        }
      ]
    },
    {
      "cell_type": "code",
      "metadata": {
        "id": "eWAMmGtaSnU0"
      },
      "source": [
        ""
      ],
      "execution_count": null,
      "outputs": []
    }
  ]
}